{
 "cells": [
  {
   "cell_type": "code",
   "execution_count": 4,
   "metadata": {},
   "outputs": [],
   "source": [
    "import pandas as pd\n",
    "import numpy as np\n",
    "import matplotlib.pyplot as plt"
   ]
  },
  {
   "cell_type": "code",
   "execution_count": 5,
   "metadata": {},
   "outputs": [],
   "source": [
    "df = pd.read_csv('train.csv')\n",
    "train_end_idx = len(df) \n",
    "df_test = pd.read_csv('test.csv')\n",
    "df_test['RainToday'] = np.zeros((len(df_test),))\n",
    "\n",
    "# 為了處理方便，把 'train.csv' 和 'test.csv' 合併起來，'test.csv'的 RainToday 欄位用 0 補起來。\n",
    "# 以 train_end_idx 作為 'train.csv' 和 'test.csv' 分界列，\n",
    "df = pd.concat([df, df_test], sort=False)\n"
   ]
  },
  {
   "cell_type": "code",
   "execution_count": 6,
   "metadata": {},
   "outputs": [
    {
     "name": "stdout",
     "output_type": "stream",
     "text": [
      "<class 'pandas.core.frame.DataFrame'>\n",
      "Int64Index: 70000 entries, 0 to 34843\n",
      "Data columns (total 22 columns):\n",
      "Date             55943 non-null object\n",
      "Location         55883 non-null object\n",
      "MinTemp          56082 non-null float64\n",
      "MaxTemp          56174 non-null float64\n",
      "Evaporation      56019 non-null float64\n",
      "Sunshine         55954 non-null float64\n",
      "WindGustDir      52611 non-null object\n",
      "WindGustSpeed    56166 non-null float64\n",
      "WindDir9am       52126 non-null object\n",
      "WindDir3pm       54552 non-null object\n",
      "WindSpeed9am     55971 non-null float64\n",
      "WindSpeed3pm     56072 non-null float64\n",
      "Humidity9am      55944 non-null float64\n",
      "Humidity3pm      55944 non-null float64\n",
      "Pressure9am      56036 non-null float64\n",
      "Pressure3pm      55896 non-null float64\n",
      "Cloud9am         56090 non-null float64\n",
      "Cloud3pm         56064 non-null float64\n",
      "Temp9am          55970 non-null float64\n",
      "Temp3pm          56063 non-null float64\n",
      "RainToday        70000 non-null float64\n",
      "RISK_MM          56129 non-null float64\n",
      "dtypes: float64(17), object(5)\n",
      "memory usage: 12.3+ MB\n"
     ]
    }
   ],
   "source": [
    "df.info()"
   ]
  },
  {
   "cell_type": "code",
   "execution_count": 7,
   "metadata": {},
   "outputs": [],
   "source": [
    "# 將非數值欄位拿掉\n",
    "df = df.drop(columns = [col for col in df.columns if df[col].dtype == np.object])\n",
    "\n",
    "# 將 missing value 補 0\n",
    "df = df.fillna(0)"
   ]
  },
  {
   "cell_type": "markdown",
   "metadata": {},
   "source": [
    "# train"
   ]
  },
  {
   "cell_type": "code",
   "execution_count": 8,
   "metadata": {},
   "outputs": [],
   "source": [
    "from sklearn.model_selection import train_test_split\n",
    "X_train, X_test, y_train, y_test = train_test_split(\n",
    "    df.drop(columns = ['RainToday']).values[:train_end_idx, :],\n",
    "    df['RainToday'].values[:train_end_idx], test_size=0.5)\n",
    "X_ans = df.drop(columns = ['RainToday']).values[train_end_idx:, :]"
   ]
  },
  {
   "cell_type": "code",
   "execution_count": 9,
   "metadata": {},
   "outputs": [
    {
     "name": "stdout",
     "output_type": "stream",
     "text": [
      "Accuracy: 0.834509\n",
      "f1-score: 0.251223\n"
     ]
    }
   ],
   "source": [
    "from sklearn.tree import DecisionTreeClassifier\n",
    "from sklearn.metrics import accuracy_score, f1_score\n",
    "\n",
    "#train tree model\n",
    "\n",
    "model = DecisionTreeClassifier(random_state = 0)\n",
    "model.fit(X_train,y_train)\n",
    "\n",
    "#predict\n",
    "y_pred_decision = model.predict(X_test)\n",
    "print('Accuracy: %f' % accuracy_score(y_test, y_pred_decision))\n",
    "print('f1-score: %f' % f1_score(y_test, y_pred_decision))\n"
   ]
  },
  {
   "cell_type": "code",
   "execution_count": 10,
   "metadata": {},
   "outputs": [],
   "source": [
    "ans_pred = model.predict(X_ans)\n",
    "df_sap = pd.DataFrame(ans_pred.astype(int), columns = ['RainToday'])\n",
    "df_sap.to_csv('myAns.csv',  index_label = 'Id')"
   ]
  },
  {
   "cell_type": "code",
   "execution_count": null,
   "metadata": {},
   "outputs": [],
   "source": []
  },
  {
   "cell_type": "code",
   "execution_count": null,
   "metadata": {},
   "outputs": [],
   "source": []
  }
 ],
 "metadata": {
  "kernelspec": {
   "display_name": "Python 3",
   "language": "python",
   "name": "python3"
  },
  "language_info": {
   "codemirror_mode": {
    "name": "ipython",
    "version": 3
   },
   "file_extension": ".py",
   "mimetype": "text/x-python",
   "name": "python",
   "nbconvert_exporter": "python",
   "pygments_lexer": "ipython3",
   "version": "3.7.6"
  }
 },
 "nbformat": 4,
 "nbformat_minor": 2
}
